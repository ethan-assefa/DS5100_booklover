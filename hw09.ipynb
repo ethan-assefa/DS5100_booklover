{
 "cells": [
  {
   "cell_type": "markdown",
   "metadata": {},
   "source": [
    "# Metadata\n",
    "\n",
    "```yaml\n",
    "Course:  DS 5100\n",
    "Module:  09 Python Packages\n",
    "Topic:   HW Package Booklover\n",
    "Author:  R.C. Alvarado (adapted)\n",
    "Date:    7 July 2023 (revised)\n",
    "```"
   ]
  },
  {
   "cell_type": "markdown",
   "metadata": {},
   "source": [
    "# Student Info\n",
    "\n",
    "* Name: Ethan Assefa\n",
    "* Net UD: eda8ek\n",
    "* URL of this file in GitHub: https://github.com/ethan-assefa/DS5100_booklover/blob/main/hw09.ipynb"
   ]
  },
  {
   "cell_type": "markdown",
   "metadata": {},
   "source": [
    "# Instructions\n",
    "\n",
    "In your **private course repo on Rivanna**, use this Jupyter notebook and the data file described to write code that performs the tasks below. \n",
    "\n",
    "Save your notebook in the `M09` directory.\n",
    "\n",
    "Remember to add and commit these files to your repo. \n",
    "\n",
    "Then push your commits to your repo on GitHib.\n",
    "\n",
    "Be sure to fill out the **Student Info** block above.\n",
    "\n",
    "To submit your homework, save your results as a PDF and upload it to GradeScope. More information about how to create the PDF for this assignment are included at the end of this document.\n",
    "\n",
    "**TOTAL POINTS: 8**"
   ]
  },
  {
   "cell_type": "markdown",
   "metadata": {},
   "source": [
    "# Overview\n",
    "\n",
    "Follow the following recipe we used in class to package the code you wrote for `HW08` -- `booklover.py` and `booklover_test.py`.\n",
    "\n",
    "* Create a new git repo for your package.\n",
    "* Create and edit the required files and directories for your package and move the booklover modules there.\n",
    "* Stage, commit, and push all the files you've created.\n",
    "* Install your package with pip.\n",
    "* Outside of your package dir, write a script to test your method.\n",
    "\n",
    "Put this notebook in your repo. This will allow you to execute bash commands and capture the outpunt directly in the notebook.\n",
    "\n",
    "**TOTAL: 8 POINTS**"
   ]
  },
  {
   "cell_type": "markdown",
   "metadata": {
    "tags": []
   },
   "source": [
    "# Tasks"
   ]
  },
  {
   "cell_type": "markdown",
   "metadata": {},
   "source": [
    "## Task 1\n",
    "\n",
    "(5 points)\n",
    "\n",
    "Show the directory structure of your repo by running this command from the root of your repo:\n",
    "\n",
    "### Task 1 Answer\n",
    "The hierarchy of our directory structure can be described as follows:\n",
    "\n",
    "DS5100_booklover/ (project folder)\n",
    "- Booklove/ (package folder)\n",
    "    - `__init__.py` (initialization file)\n",
    "    - `booklover.py` (primary file containing booklover class)\n",
    "    - `booklover_test.py` (file containing testing suite for booklover class)\n",
    "- `setup.py` (the setup file with metadata)\n",
    "- LICENSE (file with license info)\n",
    "- README (file with readme info)\n",
    "- `hw09.ipynb` (this file, the HW09 notebook)\n",
    "\n",
    "The directory structure of our project folder is shown with the code below:"
   ]
  },
  {
   "cell_type": "code",
   "execution_count": 1,
   "metadata": {},
   "outputs": [
    {
     "name": "stdout",
     "output_type": "stream",
     "text": [
      ".:\n",
      "total 48\n",
      "drwxr-sr-x 2 eda8ek users  1536 Jul 31 10:17 BookLove\n",
      "-rw-r--r-- 1 eda8ek users  4676 Jul 31 10:18 hw09.ipynb\n",
      "-rw-r--r-- 1 eda8ek users 18092 Jul 31 10:17 LICENSE\n",
      "-rw-r--r-- 1 eda8ek users   524 Jul 31 10:17 README.md\n",
      "-rw-r--r-- 1 eda8ek users   571 Jul 31 10:17 setup.py\n",
      "\n",
      "./BookLove:\n",
      "total 24\n",
      "-rw-r--r-- 1 eda8ek users 3577 Jul 31 10:17 booklover.py\n",
      "-rw-r--r-- 1 eda8ek users 4141 Jul 31 10:17 booklover_test.py\n",
      "-rw-r--r-- 1 eda8ek users  211 Jul 31 10:17 __init__.py\n"
     ]
    }
   ],
   "source": [
    "!ls -lR"
   ]
  },
  {
   "cell_type": "markdown",
   "metadata": {},
   "source": [
    "## Task 2\n",
    "\n",
    "(1 point)\n",
    "\n",
    "Put the URL of your GitHub repo here. Just paste it into a Markdown cell.\n",
    "\n",
    "### Task 2 Answer\n",
    "The URL to the GitHub repository containing the pacakage can be found here."
   ]
  },
  {
   "cell_type": "markdown",
   "metadata": {},
   "source": [
    "URL: https://github.com/ethan-assefa/DS5100_booklover.git"
   ]
  },
  {
   "cell_type": "markdown",
   "metadata": {
    "lines_to_next_cell": 0
   },
   "source": [
    "## Task 3\n",
    "\n",
    "(1 point)\n",
    "\n",
    "Show the results of installing your package.\n",
    "\n",
    "```bash\n",
    "!pip install -e .\n",
    "```\n",
    "\n",
    "### Task 3 Answer\n",
    "We have downloaded the package below: "
   ]
  },
  {
   "cell_type": "code",
   "execution_count": 3,
   "metadata": {},
   "outputs": [
    {
     "name": "stdout",
     "output_type": "stream",
     "text": [
      "Defaulting to user installation because normal site-packages is not writeable\n",
      "Obtaining file:///sfs/qumulo/qhome/eda8ek/Documents/MSDS/DS5100/DS5100_booklover\n",
      "Collecting pandas>=1.5.3\n",
      "  Downloading pandas-2.0.3-cp38-cp38-manylinux_2_17_x86_64.manylinux2014_x86_64.whl (12.4 MB)\n",
      "\u001b[K     |████████████████████████████████| 12.4 MB 13.6 MB/s eta 0:00:01\n",
      "\u001b[?25hRequirement already satisfied: pytz>=2020.1 in /sfs/applications/202307/software/standard/compiler/gcc/9.2.0/jupyter_conda/2020.11-py3.8/lib/python3.8/site-packages (from pandas>=1.5.3->BookLove==1.0.0) (2020.1)\n",
      "Collecting tzdata>=2022.1\n",
      "  Downloading tzdata-2023.3-py2.py3-none-any.whl (341 kB)\n",
      "\u001b[K     |████████████████████████████████| 341 kB 93.5 MB/s eta 0:00:01\n",
      "\u001b[?25hCollecting python-dateutil>=2.8.2\n",
      "  Downloading python_dateutil-2.8.2-py2.py3-none-any.whl (247 kB)\n",
      "\u001b[K     |████████████████████████████████| 247 kB 97.9 MB/s eta 0:00:01\n",
      "\u001b[?25hCollecting numpy>=1.20.3; python_version < \"3.10\"\n",
      "  Downloading numpy-1.24.4-cp38-cp38-manylinux_2_17_x86_64.manylinux2014_x86_64.whl (17.3 MB)\n",
      "\u001b[K     |████████████████████████████████| 17.3 MB 93.5 MB/s eta 0:00:01\n",
      "\u001b[?25hRequirement already satisfied: six>=1.5 in /sfs/applications/202307/software/standard/compiler/gcc/9.2.0/jupyter_conda/2020.11-py3.8/lib/python3.8/site-packages (from python-dateutil>=2.8.2->pandas>=1.5.3->BookLove==1.0.0) (1.15.0)\n",
      "Installing collected packages: tzdata, python-dateutil, numpy, pandas, BookLove\n",
      "\u001b[33m  WARNING: The scripts f2py, f2py3 and f2py3.8 are installed in '/home/eda8ek/.local/bin' which is not on PATH.\n",
      "  Consider adding this directory to PATH or, if you prefer to suppress this warning, use --no-warn-script-location.\u001b[0m\n",
      "  Running setup.py develop for BookLove\n",
      "Successfully installed BookLove numpy-1.24.4 pandas-2.0.3 python-dateutil-2.8.2 tzdata-2023.3\n"
     ]
    }
   ],
   "source": [
    "!pip install -e ."
   ]
  },
  {
   "cell_type": "markdown",
   "metadata": {},
   "source": [
    "## Task 4\n",
    "\n",
    "(1 point)\n",
    "\n",
    "Create a file outside your repo to test your package by running it.\n",
    "\n",
    "To do this, import the package into your file and create a BookLover object.\n",
    "\n",
    "Then add a book and then print number books read.\n",
    "\n",
    "Then run the file. \n",
    "\n",
    "Show the output of running the file below, using a command like the following:\n",
    "\n",
    "```bash\n",
    "!python ../book_lover_demo.py\n",
    "```\n",
    "\n",
    "### Task 4 Answer\n",
    "A python script called `HW09_PackageDemo.py` was created in the directory outside the Project folder (`DS5100_booklover`). We included the following code in that script:\n",
    "\n",
    "```python\n",
    "# Imports the package I've created\n",
    "import BookLove.booklover as BkLv\n",
    "\n",
    "# Uses the BookLover class \n",
    "Max_Test_Book = BkLv.BookLover(name=\"Max Testing\", email=\"M.Testing@gmail.com\", fav_genre=\"Self-Help\")\n",
    "# Adds a book to the class we have created\n",
    "Max_Test_Book.add_book(book_name = \"Example Book\", rating=5)\n",
    "print(\"-----------------------------------------------------------\")\n",
    "# Gives the book list after adding in the book\n",
    "print(Max_Test_Book.book_list)\n",
    "print(\"-----------------------------------------------------------\")\n",
    "# Gives the count of books in the class we've created\n",
    "print(\"Number of books read:\", Max_Test_Book.num_books_read())\n",
    "```\n",
    "\n",
    "That file is run using the code below, the output of that code is printed below:"
   ]
  },
  {
   "cell_type": "code",
   "execution_count": 21,
   "metadata": {},
   "outputs": [
    {
     "name": "stdout",
     "output_type": "stream",
     "text": [
      "/home/eda8ek/.local/lib/python3.8/site-packages/pandas/core/computation/expressions.py:20: UserWarning: Pandas requires version '2.7.3' or newer of 'numexpr' (version '2.7.1' currently installed).\n",
      "  from pandas.core.computation.check import NUMEXPR_INSTALLED\n",
      "/sfs/qumulo/qhome/eda8ek/Documents/MSDS/DS5100/DS5100_booklover/BookLove/booklover.py:46: FutureWarning: elementwise comparison failed; returning scalar instead, but in the future will perform elementwise comparison\n",
      "  elif book_name in self.book_list.book_name.values:\n",
      "-----------------------------------------------------------\n",
      "      book_name  book_rating\n",
      "0  Example Book          5.0\n",
      "-----------------------------------------------------------\n",
      "Number of books read: 1\n"
     ]
    }
   ],
   "source": [
    "!python ../HW09_PackageDemo.py"
   ]
  },
  {
   "cell_type": "code",
   "execution_count": null,
   "metadata": {},
   "outputs": [],
   "source": []
  }
 ],
 "metadata": {
  "jupytext": {
   "cell_metadata_filter": "-all",
   "main_language": "bash",
   "notebook_metadata_filter": "-all"
  },
  "kernelspec": {
   "display_name": "Python 3",
   "language": "python",
   "name": "python3"
  },
  "language_info": {
   "codemirror_mode": {
    "name": "ipython",
    "version": 3
   },
   "file_extension": ".py",
   "mimetype": "text/x-python",
   "name": "python",
   "nbconvert_exporter": "python",
   "pygments_lexer": "ipython3",
   "version": "3.8.8"
  },
  "vscode": {
   "interpreter": {
    "hash": "c3b963de08c47c3b6758389c5e0978ad73698a111eb508d4e16b558edb8f4cbf"
   }
  },
  "widgets": {
   "application/vnd.jupyter.widget-state+json": {
    "state": {},
    "version_major": 2,
    "version_minor": 0
   }
  }
 },
 "nbformat": 4,
 "nbformat_minor": 5
}
